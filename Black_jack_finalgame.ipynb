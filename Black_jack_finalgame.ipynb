{
 "cells": [
  {
   "cell_type": "code",
   "execution_count": 1,
   "id": "a91db0d2",
   "metadata": {},
   "outputs": [],
   "source": [
    "logo = \"\"\"\n",
    ".------.            _     _            _    _            _    \n",
    "|A_  _ |.          | |   | |          | |  (_)          | |   \n",
    "|( \\/ ).-----.     | |__ | | __ _  ___| | ___  __ _  ___| | __\n",
    "| \\  /|K /\\  |     | '_ \\| |/ _` |/ __| |/ / |/ _` |/ __| |/ /\n",
    "|  \\/ | /  \\ |     | |_) | | (_| | (__|   <| | (_| | (__|   < \n",
    "`-----| \\  / |     |_.__/|_|\\__,_|\\___|_|\\_\\ |\\__,_|\\___|_|\\_\\\\\n",
    "      |  \\/ K|                            _/ |                \n",
    "      `------'                           |__/           \n",
    "\"\"\""
   ]
  },
  {
   "cell_type": "code",
   "execution_count": 2,
   "id": "01f01a58",
   "metadata": {},
   "outputs": [
    {
     "name": "stdout",
     "output_type": "stream",
     "text": [
      "\n",
      ".------.            _     _            _    _            _    \n",
      "|A_  _ |.          | |   | |          | |  (_)          | |   \n",
      "|( \\/ ).-----.     | |__ | | __ _  ___| | ___  __ _  ___| | __\n",
      "| \\  /|K /\\  |     | '_ \\| |/ _` |/ __| |/ / |/ _` |/ __| |/ /\n",
      "|  \\/ | /  \\ |     | |_) | | (_| | (__|   <| | (_| | (__|   < \n",
      "`-----| \\  / |     |_.__/|_|\\__,_|\\___|_|\\_\\ |\\__,_|\\___|_|\\_\\\n",
      "      |  \\/ K|                            _/ |                \n",
      "      `------'                           |__/           \n",
      "\n",
      "computer first card is 9\n",
      "\n",
      "do you want to choose more cards? type 'yes' or 'no'\n",
      "yes\n",
      " user card is 10 and total is 10\n",
      "\n",
      "do you want to choose more cards? type 'yes' or 'no'\n",
      "yes\n",
      " user card is 7 and total is 17\n",
      "\n",
      "do you want to choose more cards? type 'yes' or 'no'\n",
      "yes\n",
      " user card is 9 and total is 26\n",
      "\n",
      "do you want to choose more cards? type 'yes' or 'no'\n",
      "yes\n",
      "user sum is 26\n",
      "\n",
      "computer sum is 19\n",
      "\n",
      "you loose!\n",
      "\n"
     ]
    }
   ],
   "source": [
    "print(logo)\n",
    "import random\n",
    "J=10\n",
    "Q=10\n",
    "K=10\n",
    "A=11 \n",
    "card=[2,3,4,5,6,7,8,9,10,J,Q,K,A]\n",
    "def computer():\n",
    "  card_no=random.randint(0,12)\n",
    "  card_value=card[card_no]\n",
    "  print(f\"computer first card is {card_value}\\n\")\n",
    "  condition= True\n",
    "  computer_list=[]\n",
    "  computer_list.append(card_value)\n",
    "  total=0\n",
    "  while condition:\n",
    "    if total<16:\n",
    "      card_value=random.choice(card)\n",
    "      computer_list.append(card_value)\n",
    "      total=sum(computer_list) \n",
    "      if total>21 and 11 in computer_list and len(computer_list)>2:\n",
    "        computer_list.remove(11)\n",
    "        computer_list.append(1)\n",
    "      else:\n",
    "        total=sum(computer_list) \n",
    "    elif total>=16:\n",
    "      return total\n",
    "    \n",
    "def user():\n",
    "  total=0\n",
    "  user_list=[]\n",
    "  condition= True\n",
    "  while condition:\n",
    "    choice=input(\"do you want to choose more cards? type 'yes' or 'no'\\n\")\n",
    "    if choice=='yes' and total<=21:\n",
    "      card_value=random.choice(card)\n",
    "      user_list.append(card_value)\n",
    "      if sum(user_list)>21 and 11 in user_list and len(user_list)>2:\n",
    "        user_list.remove(11)\n",
    "        user_list.append(1)\n",
    "      total=sum(user_list)\n",
    "      print(f\" user card is {card_value} and total is {total}\\n\")\n",
    "    else:\n",
    "      return total\n",
    "computer_sum=computer()\n",
    "user_sum=user()\n",
    "print(f\"user sum is {user_sum}\\n\")\n",
    "print(f\"computer sum is {computer_sum}\\n\")\n",
    "if user_sum>21:\n",
    "    print(\"you loose!\\n\")\n",
    "else:\n",
    "    if computer_sum>21:\n",
    "        print(\"computer loose!\\n\")\n",
    "    elif user_sum>computer_sum:\n",
    "        print(\"you win!\")\n",
    "    else:\n",
    "        print(\"draw\")"
   ]
  },
  {
   "cell_type": "code",
   "execution_count": 2,
   "id": "ccd2c456",
   "metadata": {},
   "outputs": [
    {
     "name": "stdout",
     "output_type": "stream",
     "text": [
      "C:\\Users\\asus\n"
     ]
    }
   ],
   "source": [
    "cd\n"
   ]
  },
  {
   "cell_type": "code",
   "execution_count": null,
   "id": "01a37f82",
   "metadata": {},
   "outputs": [],
   "source": []
  }
 ],
 "metadata": {
  "kernelspec": {
   "display_name": "Python 3 (ipykernel)",
   "language": "python",
   "name": "python3"
  },
  "language_info": {
   "codemirror_mode": {
    "name": "ipython",
    "version": 3
   },
   "file_extension": ".py",
   "mimetype": "text/x-python",
   "name": "python",
   "nbconvert_exporter": "python",
   "pygments_lexer": "ipython3",
   "version": "3.9.7"
  }
 },
 "nbformat": 4,
 "nbformat_minor": 5
}
